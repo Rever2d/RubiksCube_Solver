{
 "cells": [
  {
   "cell_type": "markdown",
   "id": "19d6272a-6fb0-4af6-bd66-1f69b26b5a4a",
   "metadata": {},
   "source": [
    "# Rubiks Cube Solver"
   ]
  },
  {
   "cell_type": "markdown",
   "id": "aac72dfa-877f-49e3-82dd-a85cd21ac96c",
   "metadata": {},
   "source": [
    "The first thing were going to do is initalize our rubiks cube."
   ]
  },
  {
   "cell_type": "code",
   "execution_count": 1,
   "id": "d7d3051b-ad14-47f4-9f3e-553dcf06bdcd",
   "metadata": {},
   "outputs": [
    {
     "name": "stdout",
     "output_type": "stream",
     "text": [
      "            ['w', 'w']\n",
      "            ['w', 'w']\n",
      "\n",
      "['o', 'o']  ['g', 'g']  ['r', 'r']  ['b', 'b']\n",
      "['o', 'o']  ['g', 'g']  ['r', 'r']  ['b', 'b']\n",
      "\n",
      "            ['y', 'y']\n",
      "            ['y', 'y']\n"
     ]
    }
   ],
   "source": [
    "from cube import RubiksCube\n",
    "\n",
    "cube = RubiksCube(n=2)\n",
    "cube.show()"
   ]
  },
  {
   "cell_type": "markdown",
   "id": "1754a537-5c6f-40ea-8e6c-ef02ef571805",
   "metadata": {},
   "source": [
    "Now that we have the rubiks cube we can shuffle it to a random state."
   ]
  },
  {
   "cell_type": "code",
   "execution_count": 2,
   "id": "8c141f5b-16a9-43d7-b215-44fb322d88a2",
   "metadata": {},
   "outputs": [
    {
     "name": "stdout",
     "output_type": "stream",
     "text": [
      "            ['o', 'w']\n",
      "            ['g', 'g']\n",
      "\n",
      "['b', 'o']  ['y', 'r']  ['b', 'r']  ['r', 'w']\n",
      "['o', 'g']  ['b', 'g']  ['o', 'y']  ['y', 'r']\n",
      "\n",
      "            ['b', 'w']\n",
      "            ['w', 'y']\n"
     ]
    }
   ],
   "source": [
    "cube.shuffle()\n",
    "cube.show()"
   ]
  },
  {
   "cell_type": "markdown",
   "id": "e23d608f-3ff3-4849-a4b5-291eda2feced",
   "metadata": {},
   "source": [
    "Now that we have a random state we can begin to attempt to solve the rubiks cube. A rubiks cube is considered solved when all faces of the cube are the same. To do this we can think of a game tree since we have a finite amount of moves."
   ]
  },
  {
   "cell_type": "code",
   "execution_count": 4,
   "id": "7fd37d91-1948-4911-a2ab-798655462bc5",
   "metadata": {},
   "outputs": [
    {
     "name": "stdout",
     "output_type": "stream",
     "text": [
      "[('h', 0, 0), ('h', 1, 0), ('h', 0, 1), ('h', 1, 1), ('v', 0, 0), ('v', 1, 0), ('v', 0, 1), ('v', 1, 1), ('s', 0, 0), ('s', 1, 0), ('s', 0, 1), ('s', 1, 1)]\n"
     ]
    }
   ],
   "source": [
    "actions = [(r, n, d) for r in ['h', 'v', 's'] for d in [0, 1] for n in range(cube.n)]\n",
    "\n",
    "que = []\n",
    "while True:\n",
    "    s = que.pop()\n",
    "    for a in actions:\n",
    "        cube = RubiksCube(state=s)\n",
    "        if a[0] == 'h':\n",
    "            cube.horizontal_twist(a[1], a[2])\n",
    "        elif a[0] == 'v':\n",
    "            cube.vertical_twist(a[1], a[2])\n",
    "        elif a[0] == 's':\n",
    "            cube.side_twist(a[1], a[2])\n",
    "        que.append(cube.stringify())\n",
    "            \n",
    "        "
   ]
  },
  {
   "cell_type": "code",
   "execution_count": null,
   "id": "73e300e3-96f3-48da-8f66-ba696cbfd9dc",
   "metadata": {},
   "outputs": [],
   "source": []
  }
 ],
 "metadata": {
  "kernelspec": {
   "display_name": "Python 3 (ipykernel)",
   "language": "python",
   "name": "python3"
  },
  "language_info": {
   "codemirror_mode": {
    "name": "ipython",
    "version": 3
   },
   "file_extension": ".py",
   "mimetype": "text/x-python",
   "name": "python",
   "nbconvert_exporter": "python",
   "pygments_lexer": "ipython3",
   "version": "3.8.9"
  }
 },
 "nbformat": 4,
 "nbformat_minor": 5
}
