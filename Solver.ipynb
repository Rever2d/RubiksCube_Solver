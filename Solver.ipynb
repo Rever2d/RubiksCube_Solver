{
 "cells": [
  {
   "cell_type": "markdown",
   "id": "19d6272a-6fb0-4af6-bd66-1f69b26b5a4a",
   "metadata": {},
   "source": [
    "# Rubiks Cube Solver"
   ]
  },
  {
   "cell_type": "markdown",
   "id": "aac72dfa-877f-49e3-82dd-a85cd21ac96c",
   "metadata": {},
   "source": [
    "The first thing were going to do is initalize our rubiks cube."
   ]
  },
  {
   "cell_type": "code",
   "execution_count": 1,
   "id": "d7d3051b-ad14-47f4-9f3e-553dcf06bdcd",
   "metadata": {},
   "outputs": [
    {
     "name": "stdout",
     "output_type": "stream",
     "text": [
      "                 ['w', 'w', 'w']\n",
      "                 ['w', 'w', 'w']\n",
      "                 ['w', 'w', 'w']\n",
      "\n",
      "['o', 'o', 'o']  ['g', 'g', 'g']  ['r', 'r', 'r']  ['b', 'b', 'b']\n",
      "['o', 'o', 'o']  ['g', 'g', 'g']  ['r', 'r', 'r']  ['b', 'b', 'b']\n",
      "['o', 'o', 'o']  ['g', 'g', 'g']  ['r', 'r', 'r']  ['b', 'b', 'b']\n",
      "\n",
      "                 ['y', 'y', 'y']\n",
      "                 ['y', 'y', 'y']\n",
      "                 ['y', 'y', 'y']\n"
     ]
    }
   ],
   "source": [
    "from cube import RubiksCube\n",
    "\n",
    "cube = RubiksCube(n=3)\n",
    "cube.show()"
   ]
  },
  {
   "cell_type": "markdown",
   "id": "1754a537-5c6f-40ea-8e6c-ef02ef571805",
   "metadata": {},
   "source": [
    "Now that we have the rubiks cube we can shuffle it to a random state."
   ]
  },
  {
   "cell_type": "code",
   "execution_count": 2,
   "id": "8c141f5b-16a9-43d7-b215-44fb322d88a2",
   "metadata": {},
   "outputs": [
    {
     "name": "stdout",
     "output_type": "stream",
     "text": [
      "                 ['o', 'w', 'w']\n",
      "                 ['g', 'o', 'b']\n",
      "                 ['o', 'w', 'w']\n",
      "\n",
      "['b', 'o', 'b']  ['y', 'o', 'o']  ['g', 'w', 'g']  ['r', 'r', 'w']\n",
      "['g', 'g', 'g']  ['r', 'w', 'r']  ['b', 'b', 'b']  ['y', 'y', 'y']\n",
      "['y', 'o', 'o']  ['g', 'w', 'g']  ['r', 'r', 'w']  ['b', 'o', 'b']\n",
      "\n",
      "                 ['y', 'g', 'y']\n",
      "                 ['y', 'r', 'y']\n",
      "                 ['r', 'b', 'r']\n"
     ]
    }
   ],
   "source": [
    "#cube.shuffle()\n",
    "cube.horizontal_twist(1, 0)\n",
    "cube.vertical_twist(1, 0)\n",
    "cube.side_twist(0, 1)\n",
    "cube.horizontal_twist(0, 1)\n",
    "cube.show()"
   ]
  },
  {
   "cell_type": "code",
   "execution_count": 3,
   "id": "c24ad857-92db-42ac-93c4-38af141a33c8",
   "metadata": {},
   "outputs": [],
   "source": [
    "from random import choice\n",
    "\n",
    "class IDA_star(object):\n",
    "    def __init__(self, heuristic, colour = 'w', max_depth = 20):\n",
    "        self.max_depth = max_depth\n",
    "        self.colour = colour\n",
    "        self.threshold = max_depth\n",
    "        self.min_threshold = None\n",
    "        self.heuristic = heuristic\n",
    "        self.moves = []\n",
    "    \n",
    "    def run(self, state):\n",
    "        while True:\n",
    "            status = self.search(state, 1)\n",
    "            if status: return self.moves\n",
    "            self.moves = []\n",
    "            self.threshold = self.min_threshold\n",
    "            #print(self.threshold)\n",
    "            #print('----')\n",
    "        return []\n",
    "\n",
    "    def search(self, state, g_score):\n",
    "        cube = RubiksCube(state=state)\n",
    "        #target_face = find_target_face(cube, self.colour)\n",
    "        #if cube.solved() or cross_solved(cube.cube, target_face, colour=self.colour):\n",
    "        if cube.solved():\n",
    "            return True\n",
    "        elif len(self.moves) >= self.threshold:\n",
    "            return False\n",
    "        min_val = float('inf')\n",
    "        best_action = None\n",
    "        for a in [(r, n, d) for r in ['h', 'v', 's'] for d in [0, 1] for n in range(cube.n)]:\n",
    "            cube = RubiksCube(state=state)\n",
    "            if a[0] == 'h':\n",
    "                cube.horizontal_twist(a[1], a[2])\n",
    "            elif a[0] == 'v':\n",
    "                cube.vertical_twist(a[1], a[2])\n",
    "            elif a[0] == 's':\n",
    "                cube.side_twist(a[1], a[2])\n",
    "            if cube.solved():\n",
    "                self.moves.append(a)\n",
    "                return True\n",
    "            cube_str = cube.stringify()\n",
    "            h_score = self.heuristic[cube_str] if cube_str in self.heuristic else self.max_depth\n",
    "            f_score = g_score + h_score\n",
    "            if f_score < min_val:\n",
    "                min_val = f_score\n",
    "                best_action = [(cube_str, a)]\n",
    "            elif f_score == min_val:\n",
    "                if best_action is None:\n",
    "                    best_action = [(cube_str, a)]\n",
    "                else:\n",
    "                    best_action.append((cube_str, a))\n",
    "        if best_action is not None:\n",
    "            if self.min_threshold is None or min_val < self.min_threshold:\n",
    "                self.min_threshold = min_val\n",
    "            next_action = choice(best_action)\n",
    "            self.moves.append(next_action[1])\n",
    "            status = self.search(next_action[0], g_score + min_val)\n",
    "            if status: return status\n",
    "        return False\n",
    "        "
   ]
  },
  {
   "cell_type": "code",
   "execution_count": 4,
   "id": "51fd0d49-6f3a-49b3-84dc-f2075a135d0d",
   "metadata": {},
   "outputs": [],
   "source": [
    "def build_heuristic_db(state, actions, max_moves = 20, heuristic = None):\n",
    "    if heuristic is None:\n",
    "        heuristic = {state: 0}\n",
    "    que = [(state, 0)]\n",
    "    while True:\n",
    "        if not que:\n",
    "            break\n",
    "        s, d = que.pop()\n",
    "        if d > max_moves:\n",
    "            continue\n",
    "        for a in actions:\n",
    "            cube = RubiksCube(state=s)\n",
    "            if a[0] == 'h':\n",
    "                cube.horizontal_twist(a[1], a[2])\n",
    "            elif a[0] == 'v':\n",
    "                cube.vertical_twist(a[1], a[2])\n",
    "            elif a[0] == 's':\n",
    "                cube.side_twist(a[1], a[2])\n",
    "            a_str = cube.stringify()\n",
    "            if a_str not in heuristic or heuristic[a_str] > d + 1:   \n",
    "                heuristic[a_str] = d + 1\n",
    "            que.append((a_str, d+1))\n",
    "    return heuristic"
   ]
  },
  {
   "cell_type": "code",
   "execution_count": null,
   "id": "d116db3c-ba34-4908-b8fb-87063f716082",
   "metadata": {},
   "outputs": [],
   "source": [
    "import json\n",
    "import os.path\n",
    "\n",
    "if os.path.exists('heuristic.json'):\n",
    "    with open('heuristic.json') as f:\n",
    "        h_db = json.load(f)\n",
    "else:\n",
    "    h_db = None\n",
    "\n",
    "cube = RubiksCube(n=3)\n",
    "actions = [(r, n, d) for r in ['h', 'v', 's'] for d in [0, 1] for n in range(cube.n)]\n",
    "h_db = build_heuristic_db(\n",
    "    cube.stringify(), \n",
    "    actions, \n",
    "    max_moves = 5, \n",
    "    heuristic = h_db\n",
    ")\n",
    "\n",
    "with open('heuristic.json', 'w', encoding='utf-8') as f:\n",
    "    json.dump(\n",
    "        h_db,\n",
    "        f,\n",
    "        ensure_ascii=False,\n",
    "        indent=4\n",
    "    )"
   ]
  },
  {
   "cell_type": "code",
   "execution_count": null,
   "id": "b04f6c0f-3b2c-4c2f-ae12-1409262029c6",
   "metadata": {},
   "outputs": [],
   "source": [
    "cube.horizontal_twist(1, 0)\n",
    "cube.vertical_twist(1, 0)\n",
    "cube.side_twist(0, 1)\n",
    "cube.horizontal_twist(0, 1)\n",
    "cube.horizontal_twist(1, 0)\n",
    "cube.vertical_twist(1, 0)\n",
    "cube.horizontal_twist(1, 0)\n",
    "\n",
    "solver = IDA_star(h_db)\n",
    "moves = solver.run(cube.stringify())\n",
    "print(moves)\n",
    "\n",
    "for m in moves:\n",
    "    if m[0] == 'h':\n",
    "        cube.horizontal_twist(m[1], m[2])\n",
    "    elif m[0] == 'v':\n",
    "        cube.vertical_twist(m[1], m[2])\n",
    "    elif m[0] == 's':\n",
    "        cube.side_twist(m[1], m[2])\n",
    "cube.show()"
   ]
  },
  {
   "cell_type": "code",
   "execution_count": null,
   "id": "4c0876d8-cc14-4a13-8bef-7ba0f496af6c",
   "metadata": {},
   "outputs": [],
   "source": [
    "def find_target_face(cube, colour):\n",
    "    target_face = None #Target face position (Middle cube of target colour)\n",
    "    for i, face in enumerate(cube.cube):\n",
    "        if face[1][1] == colour:\n",
    "            target_face = i\n",
    "            break\n",
    "    return target_face"
   ]
  },
  {
   "cell_type": "code",
   "execution_count": null,
   "id": "7f6ca864-801e-4529-aa90-24313fc04488",
   "metadata": {},
   "outputs": [],
   "source": [
    "def target_crossed(cube, target, colour='w'):\n",
    "    if cube[target][0][1] == colour and cube[target][1][0] == colour and cube[target][1][1] == colour and cube[target][1][2] == colour and cube[target][2][1] == colour:\n",
    "        return True\n",
    "    return False"
   ]
  },
  {
   "cell_type": "code",
   "execution_count": null,
   "id": "ed9ab8ae-1fb1-4e7c-a9ca-12e0b3b43fb2",
   "metadata": {},
   "outputs": [],
   "source": [
    "def cross_solved(cube, target, colour='w'):\n",
    "    if cube[target][0][1] == colour and cube[target][1][0] == colour and cube[target][1][1] == colour and cube[target][1][2] == colour and cube[target][2][1] == colour:\n",
    "        if target == 0:\n",
    "            if cube[1][0][1] == cube[1][1][1] and cube[2][0][1] == cube[2][1][1] and cube[3][0][1] == cube[3][1][1] and cube[4][0][1] == cube[4][1][1]:\n",
    "                return True\n",
    "        elif target == 1:\n",
    "            if cube[0][1][0] == cube[0][1][1] and cube[2][1][0] == cube[2][1][1] and cube[4][1][2] == cube[4][1][1] and cube[5][1][0] == cube[5][1][1]:\n",
    "                return True\n",
    "        elif target == 2:\n",
    "            if cube[0][2][1] == cube[0][1][1] and cube[1][1][2] == cube[1][1][1] and cube[3][1][0] == cube[3][1][1] and cube[5][0][1] == cube[5][1][1]:\n",
    "                return True\n",
    "        elif target == 3:\n",
    "            if cube[0][1][2] == cube[0][1][1] and cube[2][1][2] == cube[2][1][1] and cube[4][1][0] == cube[4][1][1] and cube[5][1][2] == cube[5][1][1]:\n",
    "                return True\n",
    "        elif target == 4:\n",
    "            if cube[0][0][1] == cube[0][1][1] and cube[2][1][0] == cube[2][1][1] and cube[3][1][2] == cube[3][1][1] and cube[5][2][1] == cube[5][1][1]:\n",
    "                return True\n",
    "        elif target == 5:\n",
    "            if cube[1][2][1] == cube[1][1][1] and cube[2][2][1] == cube[2][1][1] and cube[3][2][1] == cube[3][1][1] and cube[4][2][1] == cube[4][1][1]:\n",
    "                return True\n",
    "    return False"
   ]
  }
 ],
 "metadata": {
  "kernelspec": {
   "display_name": "Python 3 (ipykernel)",
   "language": "python",
   "name": "python3"
  },
  "language_info": {
   "codemirror_mode": {
    "name": "ipython",
    "version": 3
   },
   "file_extension": ".py",
   "mimetype": "text/x-python",
   "name": "python",
   "nbconvert_exporter": "python",
   "pygments_lexer": "ipython3",
   "version": "3.8.9"
  }
 },
 "nbformat": 4,
 "nbformat_minor": 5
}
